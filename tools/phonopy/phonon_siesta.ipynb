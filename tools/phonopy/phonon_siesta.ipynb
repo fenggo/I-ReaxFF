{
 "cells": [
  {
   "cell_type": "code",
   "execution_count": 8,
   "id": "8d6a2671-71b3-48d7-8114-15b97af75094",
   "metadata": {},
   "outputs": [],
   "source": [
    "from os import system, listdir\n",
    "import numpy as np\n",
    "import random\n",
    "from ph_flow import get_supercell, phonon_force\n",
    "from plotband import read_banddata\n",
    "import matplotlib.pyplot as plt\n",
    "%matplotlib inline"
   ]
  },
  {
   "cell_type": "markdown",
   "id": "33e48e43-59b2-4f32-8629-ffde77d50880",
   "metadata": {},
   "source": [
    "* 1、 优化结构"
   ]
  },
  {
   "cell_type": "code",
   "execution_count": 11,
   "id": "f00bf259-f57b-4705-b55d-03dcaafd6d49",
   "metadata": {},
   "outputs": [
    {
     "name": "stdout",
     "output_type": "stream",
     "text": [
      "\n",
      "-  running siesta opt ...\n",
      "-  Getting informations from directory /home/feng/mlff/cc/dwcnt/smd ...\n",
      "\n"
     ]
    },
    {
     "name": "stderr",
     "output_type": "stream",
     "text": [
      "Job completed\n"
     ]
    },
    {
     "data": {
      "text/plain": [
       "0"
      ]
     },
     "execution_count": 11,
     "metadata": {},
     "output_type": "execute_result"
    }
   ],
   "source": [
    "# 优化结构\n",
    "system('./smd.py opt --s=200 --g=POSCAR.unitcell  --n=8 --l=0')\n",
    "system('cp in.fdf unitcell.fdf')"
   ]
  },
  {
   "cell_type": "markdown",
   "id": "fef7192e-6743-4b1f-bb4a-182757661737",
   "metadata": {},
   "source": [
    "* 2 、先将结构文件转换为siesta输入文件"
   ]
  },
  {
   "cell_type": "code",
   "execution_count": 2,
   "id": "8dcedf1e-0d63-49f9-8b22-046fd5d00f82",
   "metadata": {},
   "outputs": [
    {
     "name": "stdout",
     "output_type": "stream",
     "text": [
      "\n",
      "-  writing siesta input ...\n"
     ]
    },
    {
     "data": {
      "text/plain": [
       "0"
      ]
     },
     "execution_count": 2,
     "metadata": {},
     "output_type": "execute_result"
    }
   ],
   "source": [
    "# 将结构文件转换为siesta输入文件\n",
    "system('./smd.py w --g=id_unitcell.traj')"
   ]
  },
  {
   "cell_type": "markdown",
   "id": "fe3c040a-3495-4239-868f-cdc0a7009be6",
   "metadata": {},
   "source": [
    "* 3 、生成位移文件"
   ]
  },
  {
   "cell_type": "code",
   "execution_count": 3,
   "id": "5c1acd40-dbd2-4f98-86a6-7d083356bb5a",
   "metadata": {},
   "outputs": [
    {
     "name": "stdout",
     "output_type": "stream",
     "text": [
      "        _\n",
      "  _ __ | |__   ___  _ __   ___   _ __  _   _\n",
      " | '_ \\| '_ \\ / _ \\| '_ \\ / _ \\ | '_ \\| | | |\n",
      " | |_) | | | | (_) | | | | (_) || |_) | |_| |\n",
      " | .__/|_| |_|\\___/|_| |_|\\___(_) .__/ \\__, |\n",
      " |_|                            |_|    |___/\n",
      "                                      2.21.0\n",
      "\n",
      "Compiled with OpenMP support (max 24 threads).\n",
      "Python version 3.11.6\n",
      "Spglib version 2.2.0\n",
      "\n",
      "Calculator interface: siesta\n",
      "Crystal structure was read from \"in.fdf\".\n",
      "Unit of length: au\n",
      "Displacements creation mode\n",
      "Displacement distance: 0.01\n",
      "Settings:\n",
      "  Supercell: [8 8 1]\n",
      "Spacegroup: P-1 (2)\n",
      "Use -v option to watch primitive cell, unit cell, and supercell structures.\n",
      "\n",
      "\"phonopy_disp.yaml\" and supercells have been created.\n",
      "\n",
      "Summary of calculation was written in \"phonopy_disp.yaml\".\n",
      "                 _\n",
      "   ___ _ __   __| |\n",
      "  / _ \\ '_ \\ / _` |\n",
      " |  __/ | | | (_| |\n",
      "  \\___|_| |_|\\__,_|\n",
      "\n"
     ]
    },
    {
     "data": {
      "text/plain": [
       "0"
      ]
     },
     "execution_count": 3,
     "metadata": {},
     "output_type": "execute_result"
    }
   ],
   "source": [
    "# 生成位移文件\n",
    "try:\n",
    "   system('rm supercell-00*.fdf')\n",
    "except:\n",
    "   pass\n",
    "system('phonopy --siesta -c=in.fdf -d --dim=\"8 8 1\" --amplitude=0.01')"
   ]
  },
  {
   "cell_type": "markdown",
   "id": "2a2a2957-c758-4476-8d3c-8212bfcc89e8",
   "metadata": {},
   "source": [
    "* 4 、计算每个位移文件受力"
   ]
  },
  {
   "cell_type": "code",
   "execution_count": 4,
   "id": "0785d0f2-2774-46b1-a8b0-82803e241a6d",
   "metadata": {},
   "outputs": [
    {
     "name": "stdout",
     "output_type": "stream",
     "text": [
      "-  calculating structure 1 ...\n"
     ]
    },
    {
     "name": "stderr",
     "output_type": "stream",
     "text": [
      "Job completed\n"
     ]
    },
    {
     "name": "stdout",
     "output_type": "stream",
     "text": [
      "-  calculating structure 2 ...\n"
     ]
    },
    {
     "name": "stderr",
     "output_type": "stream",
     "text": [
      "Job completed\n"
     ]
    },
    {
     "name": "stdout",
     "output_type": "stream",
     "text": [
      "-  calculating structure 3 ...\n"
     ]
    },
    {
     "name": "stderr",
     "output_type": "stream",
     "text": [
      "Job completed\n"
     ]
    },
    {
     "name": "stdout",
     "output_type": "stream",
     "text": [
      "-  calculating structure 4 ...\n"
     ]
    },
    {
     "name": "stderr",
     "output_type": "stream",
     "text": [
      "Job completed\n"
     ]
    },
    {
     "name": "stdout",
     "output_type": "stream",
     "text": [
      "-  calculating structure 5 ...\n"
     ]
    },
    {
     "name": "stderr",
     "output_type": "stream",
     "text": [
      "Job completed\n"
     ]
    },
    {
     "name": "stdout",
     "output_type": "stream",
     "text": [
      "-  calculating structure 6 ...\n"
     ]
    },
    {
     "name": "stderr",
     "output_type": "stream",
     "text": [
      "Job completed\n"
     ]
    }
   ],
   "source": [
    "n = get_supercell()\n",
    "# 计算每个位移文件受力\n",
    "for i in range(n):\n",
    "    phonon_force(i+1,'siesta',8)\n",
    "# system('cp force.0 lammps_forces_gp.0')"
   ]
  },
  {
   "cell_type": "markdown",
   "id": "e8c8bbde-042c-42b7-88d7-b77f89e39736",
   "metadata": {},
   "source": [
    "* 5、画出声子色散曲线"
   ]
  },
  {
   "cell_type": "code",
   "execution_count": 5,
   "id": "6d2192c6-0598-4d1c-82ae-5cb354668c21",
   "metadata": {},
   "outputs": [
    {
     "name": "stdout",
     "output_type": "stream",
     "text": [
      "        _\n",
      "  _ __ | |__   ___  _ __   ___   _ __  _   _\n",
      " | '_ \\| '_ \\ / _ \\| '_ \\ / _ \\ | '_ \\| | | |\n",
      " | |_) | | | | (_) | | | | (_) || |_) | |_| |\n",
      " | .__/|_| |_|\\___/|_| |_|\\___(_) .__/ \\__, |\n",
      " |_|                            |_|    |___/\n",
      "                                      2.21.0\n",
      "\n",
      "Compiled with OpenMP support (max 24 threads).\n",
      "Python version 3.11.6\n",
      "Spglib version 2.2.0\n",
      "\n",
      "Calculator interface: siesta\n",
      "Displacements were read from \"phonopy_disp.yaml\".\n",
      "1. Drift force of \"Forces-001.FA\" to be subtracted\n",
      "  0.00002513   0.00124125  -0.00003188\n",
      "2. Drift force of \"Forces-002.FA\" to be subtracted\n",
      " -0.00021198   0.00135637  -0.00002877\n",
      "3. Drift force of \"Forces-003.FA\" to be subtracted\n",
      " -0.00013444   0.00125179  -0.00003120\n",
      "4. Drift force of \"Forces-004.FA\" to be subtracted\n",
      " -0.00001160   0.00136984  -0.00003023\n",
      "5. Drift force of \"Forces-005.FA\" to be subtracted\n",
      " -0.00000912   0.00126800  -0.00003165\n",
      "6. Drift force of \"Forces-006.FA\" to be subtracted\n",
      " -0.00000107   0.00126820  -0.00003076\n",
      "\"FORCE_SETS\" has been created.\n",
      "                 _\n",
      "   ___ _ __   __| |\n",
      "  / _ \\ '_ \\ / _` |\n",
      " |  __/ | | | (_| |\n",
      "  \\___|_| |_|\\__,_|\n",
      "\n"
     ]
    },
    {
     "data": {
      "text/plain": [
       "0"
      ]
     },
     "execution_count": 5,
     "metadata": {},
     "output_type": "execute_result"
    }
   ],
   "source": [
    "# 创建力常数文件\n",
    "fs = ['Forces-00{:d}.FA'.format(i) for i in range(1,n+1)]\n",
    "fs = ' '.join(fs)\n",
    "system('phonopy -f {:s} --siesta'.format(fs))"
   ]
  },
  {
   "cell_type": "code",
   "execution_count": 12,
   "id": "c1287e4d-280b-4d68-bd01-861ef3c3d26c",
   "metadata": {},
   "outputs": [
    {
     "name": "stdout",
     "output_type": "stream",
     "text": [
      "        _\n",
      "  _ __ | |__   ___  _ __   ___   _ __  _   _\n",
      " | '_ \\| '_ \\ / _ \\| '_ \\ / _ \\ | '_ \\| | | |\n",
      " | |_) | | | | (_) | | | | (_) || |_) | |_| |\n",
      " | .__/|_| |_|\\___/|_| |_|\\___(_) .__/ \\__, |\n",
      " |_|                            |_|    |___/\n",
      "                                      2.21.0\n",
      "\n",
      "Compiled with OpenMP support (max 24 threads).\n",
      "Python version 3.11.6\n",
      "Spglib version 2.2.0\n",
      "\n",
      "Calculator interface: siesta\n",
      "Crystal structure was read from \"unitcell.fdf\".\n",
      "Unit of length: au\n",
      "Band structure mode\n",
      "Settings:\n",
      "  Supercell: [8 8 1]\n",
      "Spacegroup: P-1 (2)\n",
      "Use -v option to watch primitive cell, unit cell, and supercell structures.\n",
      "\n",
      "Forces and displacements were read from \"FORCE_SETS\".\n",
      "Computing force constants...\n",
      "Max drift of force constants: 0.022283 (yx) 0.000001 (yy)\n",
      "\n",
      "Reciprocal space paths in reduced coordinates:\n",
      "[ 0.000  0.000  0.000] --> [ 0.250  0.000  0.000]\n",
      "[ 0.250  0.000  0.000] --> [ 0.500  0.000  0.000]\n",
      "[ 0.500  0.000  0.000] --> [ 0.667 -0.333  0.500]\n",
      "[ 0.667 -0.333  0.500] --> [ 0.333 -0.167  0.000]\n",
      "[ 0.333 -0.167  0.000] --> [ 0.000  0.000  0.000]\n",
      "Figure(640x480)\n",
      "\n",
      "Summary of calculation was written in \"phonopy.yaml\".\n",
      "                 _\n",
      "   ___ _ __   __| |\n",
      "  / _ \\ '_ \\ / _` |\n",
      " |  __/ | | | (_| |\n",
      "  \\___|_| |_|\\__,_|\n",
      "\n"
     ]
    },
    {
     "data": {
      "text/plain": [
       "0"
      ]
     },
     "execution_count": 12,
     "metadata": {},
     "output_type": "execute_result"
    }
   ],
   "source": [
    "# 画出声子色散曲线\n",
    "system('phonopy --siesta -c unitcell.fdf -p --dim=\"8 8 1\" --band=\"0.0 0.0 0.0 1/4 0.0 0.0  0.5 0.0 0.0  2/3 -1/3 1/2 1/3 -1/6 0.0  0.0 0.0 0.0\"')"
   ]
  },
  {
   "cell_type": "code",
   "execution_count": 20,
   "id": "933a146b-afb9-464e-acf7-4a5facd30e7a",
   "metadata": {},
   "outputs": [
    {
     "data": {
      "text/plain": [
       "256"
      ]
     },
     "execution_count": 20,
     "metadata": {},
     "output_type": "execute_result"
    }
   ],
   "source": [
    "system('phonopy-bandplot --gnuplot band.yaml > band.dat')"
   ]
  },
  {
   "cell_type": "markdown",
   "id": "fe138ba9-8304-445a-a10f-e71208e0757e",
   "metadata": {},
   "source": [
    "* 6、进行对比"
   ]
  },
  {
   "cell_type": "code",
   "execution_count": 21,
   "id": "c9897e7e-ec37-4b49-9994-83388e3a949b",
   "metadata": {},
   "outputs": [
    {
     "data": {
      "text/plain": [
       "0"
      ]
     },
     "execution_count": 21,
     "metadata": {},
     "output_type": "execute_result"
    }
   ],
   "source": [
    "# 对数据重命名\n",
    "system('mv band.dat band-{:s}.dat'.format('siesta'))"
   ]
  },
  {
   "cell_type": "code",
   "execution_count": 4,
   "id": "247906ea-c60a-4571-8e67-3d9a354c77eb",
   "metadata": {},
   "outputs": [],
   "source": [
    "def get_plot_data(data):\n",
    "    X   = []\n",
    "    Y   = []\n",
    "    \n",
    "    for db in data:\n",
    "        #print(db)\n",
    "        if len(db)==0: continue\n",
    "        db = np.array(db)\n",
    "        n = len(db[:,0])\n",
    "        x = db[:,0]#*unit\n",
    "        y = db[:,1]#*yunit\n",
    "        \n",
    "        index_ = random.sample(range(n),20)\n",
    "        x     = x[index_]\n",
    "        y     = y[index_]\n",
    "        # ax.plot(x,y,color='r',label='ReaxFF-nn')\n",
    "        X.extend(x)\n",
    "        Y.extend(y)\n",
    "    return X,Y"
   ]
  },
  {
   "cell_type": "code",
   "execution_count": 11,
   "id": "557f9889-d9e3-4002-a6c4-cb81a1b8da22",
   "metadata": {},
   "outputs": [
    {
     "data": {
      "image/png": "[encoded data removed]",
      "text/plain": [
       "<Figure size 800x600 with 1 Axes>"
      ]
     },
     "metadata": {},
     "output_type": "display_data"
    }
   ],
   "source": [
    "# 画图\n",
    "# data_nn   = read_banddata('band-nn-gulp.dat')\n",
    "data_qe   = read_banddata('band-siesta.dat')\n",
    "# data_quip = read_banddata('band-quip.dat')\n",
    "# data_dp = read_banddata('band-dp.dat')\n",
    "\n",
    "plt.figure(figsize=(8,6))\n",
    "plt.grid(visible=True,which='major',axis='x',color='r',lw=1)\n",
    "ax = plt.subplot()\n",
    "ax.set_ylabel(r\"$Frequency$ ($THz$)\", weight=\"medium\",fontdict={\"fontsize\":18})\n",
    "ax.set_xticks([0.00000000, 0.12362750, 0.19554850, 0.34])\n",
    "ax.set_xticklabels([r\"$\\Gamma$\", r\"$M$\", r\"$K$\", r\"$\\Gamma$\"])\n",
    "plt.xticks(fontsize=25)\n",
    "\n",
    "X, Y = get_plot_data(data_qe)\n",
    "xmax= np.max(X)\n",
    "ymax= np.max(Y)\n",
    "\n",
    "ax.scatter(X,Y,marker='o',color='none',edgecolors='b',s=10,label='DFT(Siesta)')\n",
    "\n",
    "plt.xlim((0, xmax+0.001))\n",
    "plt.ylim((0., ymax+5.0))\n",
    "plt.legend(loc='upper center',ncol=2,edgecolor='yellowgreen',fontsize=16)\n",
    "plt.tight_layout()\n",
    "# plt.savefig(\"band.pdf\")\n",
    "plt.show()"
   ]
  }
 ],
 "metadata": {
  "kernelspec": {
   "display_name": "Python 3 (ipykernel)",
   "language": "python",
   "name": "python3"
  },
  "language_info": {
   "codemirror_mode": {
    "name": "ipython",
    "version": 3
   },
   "file_extension": ".py",
   "mimetype": "text/x-python",
   "name": "python",
   "nbconvert_exporter": "python",
   "pygments_lexer": "ipython3",
   "version": "3.11.6"
  }
 },
 "nbformat": 4,
 "nbformat_minor": 5
}
